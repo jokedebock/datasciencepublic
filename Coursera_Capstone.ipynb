# This notebook is created as a start towards the Coursera Capstone Project

import pandas as pd
import numpy as np

print('Hello Capstone Project Course!')
