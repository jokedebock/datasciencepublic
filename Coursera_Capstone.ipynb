{
 "cells": [
  {
   "cell_type": "markdown",
   "metadata": {},
   "source": [
    "# This notebook is created for the Coursera Capstone Project"
   ]
  },
  {
   "cell_type": "code",
   "execution_count": 1,
   "metadata": {},
   "outputs": [],
   "source": [
    "import pandas as pd\n",
    "import numpy as np"
   ]
  },
  {
   "cell_type": "code",
   "execution_count": 2,
   "metadata": {},
   "outputs": [
    {
     "name": "stdout",
     "output_type": "stream",
     "text": [
      "(11, 3)\n"
     ]
    }
   ],
   "source": [
    "d = pd.read_html(\"https://en.wikipedia.org/wiki/List_of_postal_codes_of_Canada:_M\")\n",
    "\n",
    "df = d[0]\n",
    "df.columns = ['PostalCode', 'Borough', 'Neighborhood']\n",
    "\n",
    "df = df.replace('Not assigned', np.nan)\n",
    "\n",
    "df = df.dropna(subset=['Borough'])\n",
    "\n",
    "df = df.groupby('Borough', as_index=False).agg(lambda x: ', '.join(set(x.dropna())))\n",
    "\n",
    "def fx(x):\n",
    "    if (x['Neighborhood']):\n",
    "        return x['Neighborhood']\n",
    "    else:\n",
    "        return x['Borough']\n",
    "\n",
    "df['Neighborhood'] = df.apply(lambda x : fx(x),axis=1)\n",
    "\n",
    "print(df.shape)"
   ]
  },
  {
   "cell_type": "markdown",
   "metadata": {},
   "source": [
    "This code has been written to scrape the wikipedia page with postal codes of Canada. \n",
    "I didn't need BeautifulSoup since I used pandas read_html.\n",
    "After sc"
   ]
  }
 ],
 "metadata": {
  "kernelspec": {
   "display_name": "Python 3",
   "language": "python",
   "name": "python3"
  },
  "language_info": {
   "codemirror_mode": {
    "name": "ipython",
    "version": 3
   },
   "file_extension": ".py",
   "mimetype": "text/x-python",
   "name": "python",
   "nbconvert_exporter": "python",
   "pygments_lexer": "ipython3",
   "version": "3.7.2"
  }
 },
 "nbformat": 4,
 "nbformat_minor": 2
}
