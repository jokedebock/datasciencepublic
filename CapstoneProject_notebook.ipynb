{
 "cells": [
  {
   "cell_type": "markdown",
   "metadata": {},
   "source": [
    "# Joke's Capstone project"
   ]
  },
  {
   "cell_type": "markdown",
   "metadata": {},
   "source": [
    "## Finding the similarity between Antwerp districts"
   ]
  },
  {
   "cell_type": "markdown",
   "metadata": {},
   "source": [
    "![Antwerp Skyline](Antwerp_Skyline.png)"
   ]
  },
  {
   "cell_type": "markdown",
   "metadata": {},
   "source": [
    "### Introduction/Business Problem"
   ]
  },
  {
   "cell_type": "markdown",
   "metadata": {},
   "source": [
    "Living in Antwerp myself, I'm interested in knowing which of the districts/area's in Antwerp are most similar to one another when it comes to having similar venues.\n",
    "\n",
    "The target audience for this investigation is the potential business owner that wants to relocate his business in Antwerp and wants to consider a similar area. Alternatively this investigation can be used by people wanting to move in Antwerp to a similar area as the one they are living in and currently enjoying."
   ]
  },
  {
   "cell_type": "markdown",
   "metadata": {},
   "source": [
    "### Code"
   ]
  },
  {
   "cell_type": "code",
   "execution_count": 1,
   "metadata": {},
   "outputs": [
    {
     "name": "stderr",
     "output_type": "stream",
     "text": [
      "c:\\users\\rc01828\\appdata\\local\\programs\\python\\python37\\lib\\site-packages\\ipykernel_launcher.py:57: SettingWithCopyWarning: \n",
      "A value is trying to be set on a copy of a slice from a DataFrame.\n",
      "Try using .loc[row_indexer,col_indexer] = value instead\n",
      "\n",
      "See the caveats in the documentation: http://pandas.pydata.org/pandas-docs/stable/indexing.html#indexing-view-versus-copy\n",
      "c:\\users\\rc01828\\appdata\\local\\programs\\python\\python37\\lib\\site-packages\\ipykernel_launcher.py:58: SettingWithCopyWarning: \n",
      "A value is trying to be set on a copy of a slice from a DataFrame.\n",
      "Try using .loc[row_indexer,col_indexer] = value instead\n",
      "\n",
      "See the caveats in the documentation: http://pandas.pydata.org/pandas-docs/stable/indexing.html#indexing-view-versus-copy\n"
     ]
    },
    {
     "name": "stdout",
     "output_type": "stream",
     "text": [
      "The geograpical coordinate of Antwerp are 51.2211097, 4.3997081.\n"
     ]
    },
    {
     "data": {
      "text/html": [
       "<div style=\"width:100%;\"><div style=\"position:relative;width:100%;height:0;padding-bottom:60%;\"><iframe src=\"data:text/html;charset=utf-8;base64,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\" style=\"position:absolute;width:100%;height:100%;left:0;top:0;border:none !important;\" allowfullscreen webkitallowfullscreen mozallowfullscreen></iframe></div></div>"
      ],
      "text/plain": [
       "<folium.folium.Map at 0x1f5c3091b38>"
      ]
     },
     "execution_count": 1,
     "metadata": {},
     "output_type": "execute_result"
    }
   ],
   "source": [
    "import pandas as pd\n",
    "import numpy as np\n",
    "import pgeocode\n",
    "from pypostalcode import PostalCodeDatabase\n",
    "import folium # map rendering library\n",
    "from geopy.geocoders import Nominatim # convert an address into latitude and longitude values\n",
    "import requests # library to handle requests\n",
    "from pandas.io.json import json_normalize # tranform JSON file into a pandas dataframe\n",
    "from sklearn.cluster import KMeans # import k-means from clustering stage\n",
    "import matplotlib.cm as cm # Matplotlib and associated plotting modules\n",
    "import matplotlib.colors as colors\n",
    "import os\n",
    "import webbrowser\n",
    "\n",
    "\n",
    "# EXERCISE PART 1: Creating the dataframe and transforming the data\n",
    "# -----------------------------------------------------------------\n",
    "\n",
    "d = pd.read_html(\"http://www.geonames.org/postalcode-search.html?q=&country=BE\")\n",
    "df = d[2]\n",
    "df.columns = ['SequenceNr', 'City', 'PostalCode','Country', 'Region', 'Province', 'MajorCity']\n",
    "\n",
    "# Drop rows where Borough is \"Not assgined\"\n",
    "df = df.replace('Not assigned', np.nan)\n",
    "df = df.dropna(subset=['SequenceNr'])\n",
    "df = df.drop(columns='SequenceNr')\n",
    "df = df.drop(columns='Country')\n",
    "df = df.drop(columns= 'Region')\n",
    "\n",
    "df_antwerp = df[df.MajorCity == \"Antwerpen\"]\n",
    "\n",
    "# EXERCISE PART 2: Adding latitude & longitude to the dataframe\n",
    "# -------------------------------------------------------------\n",
    "\n",
    "nomi = pgeocode.Nominatim('be')\n",
    "\n",
    "# Function to search for latitude based on postal code\n",
    "def searchlatitude(x):\n",
    "     try:\n",
    "         t_postalcodeinfo = nomi.query_postal_code(x)\n",
    "         latitude = t_postalcodeinfo[-3]\n",
    "         return latitude\n",
    "     except:\n",
    "         return \"Not found\"\n",
    "\n",
    "# Function to search for longitude based on postal code\n",
    "def searchlongitude(x):\n",
    "    try:\n",
    "        t_postalcodeinfo = nomi.query_postal_code(x)\n",
    "        longitude = t_postalcodeinfo[-2]\n",
    "        return longitude\n",
    "    except:\n",
    "        return \"Not found\"\n",
    "\n",
    "\n",
    "# Add columns Latitude and Longitude\n",
    "df_antwerp['Latitude'] = df_antwerp.apply(lambda row: searchlatitude(row.PostalCode), axis = 1)\n",
    "df_antwerp['Longitude'] = df_antwerp.apply(lambda row: searchlongitude(row.PostalCode), axis = 1)\n",
    "# print(df_antwerp)\n",
    "\n",
    "# Drop the rows for which the postal code was not found\n",
    "df_antwerp = df_antwerp.replace('Not found', np.nan)\n",
    "df_antwerp = df_antwerp.dropna(subset=['Latitude'])\n",
    "\n",
    "\n",
    "# EXERCISE PART 3: Exploring & clustering the neighborhoods of Toronto\n",
    "# --------------------------------------------------------------------\n",
    "# Get location of Antwerp\n",
    "address = 'Antwerp'\n",
    "geolocator = Nominatim(user_agent=\"antwerp_explorer\")\n",
    "location = geolocator.geocode(address)\n",
    "latitude = location.latitude\n",
    "longitude = location.longitude\n",
    "print('The geograpical coordinate of Antwerp are {}, {}.'.format(latitude, longitude))\n",
    "\n",
    "# Create map of New York using latitude and longitude values\n",
    "map_antwerp = folium.Map(location=[latitude, longitude], zoom_start=10)\n",
    "\n",
    "# Add markers to map\n",
    "for lat, lng, postalcode, city in zip(df_antwerp['Latitude'], df_antwerp['Longitude'], df_antwerp['PostalCode'], df_antwerp['City']):\n",
    "     label = '{}, {}'.format(postalcode, city)\n",
    "     label = folium.Popup(label, parse_html=True)\n",
    "     folium.CircleMarker(\n",
    "         [lat, lng],\n",
    "         radius=5,\n",
    "         popup=label,\n",
    "         color='blue',\n",
    "         fill=True,\n",
    "         fill_color='#3186cc',\n",
    "         fill_opacity=0.7,\n",
    "         parse_html=False).add_to(map_antwerp)\n",
    "\n",
    "# Show map (in Jupyter Notebook)\n",
    "map_antwerp"
   ]
  },
  {
   "cell_type": "code",
   "execution_count": null,
   "metadata": {},
   "outputs": [],
   "source": []
  }
 ],
 "metadata": {
  "kernelspec": {
   "display_name": "Python 3",
   "language": "python",
   "name": "python3"
  },
  "language_info": {
   "codemirror_mode": {
    "name": "ipython",
    "version": 3
   },
   "file_extension": ".py",
   "mimetype": "text/x-python",
   "name": "python",
   "nbconvert_exporter": "python",
   "pygments_lexer": "ipython3",
   "version": "3.7.2"
  }
 },
 "nbformat": 4,
 "nbformat_minor": 2
}
